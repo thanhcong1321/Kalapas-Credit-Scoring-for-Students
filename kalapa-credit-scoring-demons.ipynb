{
 "cells": [
  {
   "cell_type": "markdown",
   "metadata": {
    "papermill": {
     "duration": 0.021236,
     "end_time": "2020-09-28T16:48:30.350633",
     "exception": false,
     "start_time": "2020-09-28T16:48:30.329397",
     "status": "completed"
    },
    "tags": []
   },
   "source": [
    "# 1. Library & Input data"
   ]
  },
  {
   "cell_type": "code",
   "execution_count": 2,
   "metadata": {
    "_cell_guid": "b1076dfc-b9ad-4769-8c92-a6c4dae69d19",
    "_uuid": "8f2839f25d086af736a60e9eeb907d3b93b6e0e5",
    "collapsed": true,
    "jupyter": {
     "outputs_hidden": true
    },
    "papermill": {
     "duration": 1.73875,
     "end_time": "2020-09-28T16:48:32.109630",
     "exception": false,
     "start_time": "2020-09-28T16:48:30.370880",
     "status": "completed"
    },
    "tags": []
   },
   "outputs": [
    {
     "ename": "ModuleNotFoundError",
     "evalue": "No module named 'catboost'",
     "output_type": "error",
     "traceback": [
      "\u001b[1;31m---------------------------------------------------------------------------\u001b[0m",
      "\u001b[1;31mModuleNotFoundError\u001b[0m                       Traceback (most recent call last)",
      "\u001b[1;32m<ipython-input-2-e1623d48234d>\u001b[0m in \u001b[0;36m<module>\u001b[1;34m\u001b[0m\n\u001b[0;32m     14\u001b[0m \u001b[1;32mfrom\u001b[0m \u001b[0msklearn\u001b[0m\u001b[1;33m.\u001b[0m\u001b[0mmetrics\u001b[0m \u001b[1;32mimport\u001b[0m \u001b[0mroc_auc_score\u001b[0m\u001b[1;33m\u001b[0m\u001b[1;33m\u001b[0m\u001b[0m\n\u001b[0;32m     15\u001b[0m \u001b[1;33m\u001b[0m\u001b[0m\n\u001b[1;32m---> 16\u001b[1;33m \u001b[1;32mfrom\u001b[0m \u001b[0mcatboost\u001b[0m \u001b[1;32mimport\u001b[0m \u001b[0mCatBoostClassifier\u001b[0m\u001b[1;33m\u001b[0m\u001b[1;33m\u001b[0m\u001b[0m\n\u001b[0m\u001b[0;32m     17\u001b[0m \u001b[1;32mfrom\u001b[0m \u001b[0mlightgbm\u001b[0m \u001b[1;32mimport\u001b[0m \u001b[0mLGBMClassifier\u001b[0m\u001b[1;33m\u001b[0m\u001b[1;33m\u001b[0m\u001b[0m\n\u001b[0;32m     18\u001b[0m \u001b[1;33m\u001b[0m\u001b[0m\n",
      "\u001b[1;31mModuleNotFoundError\u001b[0m: No module named 'catboost'"
     ]
    }
   ],
   "source": [
    "import pandas as pd\n",
    "import numpy as np\n",
    "\n",
    "from matplotlib import pyplot as plt\n",
    "import seaborn as sns\n",
    "plt.style.use('fivethirtyeight')\n",
    "\n",
    "from datetime import datetime\n",
    "from unidecode import unidecode\n",
    "from itertools import combinations\n",
    "\n",
    "from sklearn.linear_model import LogisticRegression\n",
    "from sklearn.model_selection import cross_val_score, StratifiedKFold\n",
    "from sklearn.metrics import roc_auc_score\n",
    "\n",
    "from catboost import CatBoostClassifier\n",
    "from lightgbm import LGBMClassifier\n",
    "\n",
    "import category_encoders as ce\n",
    "\n",
    "import re\n",
    "import warnings\n",
    "warnings.filterwarnings('ignore')\n",
    "\n",
    "# import os\n",
    "# for dirname, _, filenames in os.walk('data'):\n",
    "#     for filename in filenames:\n",
    "#         print(os.path.join(dirname, filename))"
   ]
  },
  {
   "cell_type": "code",
   "execution_count": 11,
   "metadata": {
    "papermill": {
     "duration": 2.664674,
     "end_time": "2020-09-28T16:48:34.796090",
     "exception": false,
     "start_time": "2020-09-28T16:48:32.131416",
     "status": "completed"
    },
    "tags": []
   },
   "outputs": [
    {
     "name": "stderr",
     "output_type": "stream",
     "text": [
      "C:\\Users\\Thanh Cong\\miniconda3\\lib\\site-packages\\IPython\\core\\interactiveshell.py:3145: DtypeWarning: Columns (35,43) have mixed types.Specify dtype option on import or set low_memory=False.\n",
      "  has_raised = await self.run_ast_nodes(code_ast.body, cell_name,\n",
      "C:\\Users\\Thanh Cong\\miniconda3\\lib\\site-packages\\IPython\\core\\interactiveshell.py:3145: DtypeWarning: Columns (34,42) have mixed types.Specify dtype option on import or set low_memory=False.\n",
      "  has_raised = await self.run_ast_nodes(code_ast.body, cell_name,\n"
     ]
    }
   ],
   "source": [
    "train = pd.read_csv('data/train.csv')\n",
    "test = pd.read_csv('data/test.csv')\n",
    "province = pd.read_csv('data/diaChi_province.csv')"
   ]
  },
  {
   "cell_type": "markdown",
   "metadata": {
    "papermill": {
     "duration": 0.02281,
     "end_time": "2020-09-28T16:48:34.840254",
     "exception": false,
     "start_time": "2020-09-28T16:48:34.817444",
     "status": "completed"
    },
    "tags": []
   },
   "source": [
    "# 2. Feature Engineering"
   ]
  },
  {
   "cell_type": "code",
   "execution_count": 3,
   "metadata": {
    "execution": {
     "iopub.execute_input": "2020-09-28T16:48:34.909172Z",
     "iopub.status.busy": "2020-09-28T16:48:34.903824Z",
     "iopub.status.idle": "2020-09-28T16:48:34.917804Z",
     "shell.execute_reply": "2020-09-28T16:48:34.917045Z"
    },
    "papermill": {
     "duration": 0.055693,
     "end_time": "2020-09-28T16:48:34.917932",
     "exception": false,
     "start_time": "2020-09-28T16:48:34.862239",
     "status": "completed"
    },
    "tags": []
   },
   "outputs": [
    {
     "name": "stdout",
     "output_type": "stream",
     "text": [
      "37 27 12 11 87\n"
     ]
    }
   ],
   "source": [
    "# Drop some columns are duplicated, with correlation = NaN\n",
    "ignore_columns = ([\"gioiTinh\", \"info_social_sex\", \"ngaySinh\", \"namSinh\"] + \n",
    "        [f\"Field_{c}\" for c in [14, 16, 17, 24, 26, 30, 31, 37, 52, 57]] + \n",
    "        ['partner0_K', 'partner0_L', \n",
    "         'partner1_B', 'partner1_D', 'partner1_E', 'partner1_F', 'partner1_K', 'partner1_L',\n",
    "         'partner2_B', 'partner2_G', 'partner2_K', 'partner2_L',\n",
    "         'partner3_B', 'partner3_C', 'partner3_F', 'partner3_G', 'partner3_H', 'partner3_K', 'partner3_L',\n",
    "         *['partner4_' + i for i in 'ABCDEFGHK'],\n",
    "         'partner5_B', 'partner5_C', 'partner5_H', 'partner5_K', 'partner5_L'])\n",
    "\n",
    "# Some auto columns could make new better columns\n",
    "all_auto_columns = list(set([c for c in train.columns if train[c].dtype in [np.int64, np.float64]])\n",
    "                    .difference(ignore_columns + ['currentLocationLocationId', 'homeTownLocationId', 'label', 'id']))\n",
    "\n",
    "auto_columns_1 = [c for c in all_auto_columns if 'Field_' in c]\n",
    "auto_columns_2 = [c for c in all_auto_columns if 'partner' in c]\n",
    "auto_columns_3 = [c for c in all_auto_columns if 'num' in c]\n",
    "auto_columns_4 = [c for c in all_auto_columns if c not in auto_columns_1 + auto_columns_2 + auto_columns_3]\n",
    "print(len(auto_columns_1), len(auto_columns_2), len(auto_columns_3), len(auto_columns_4), len(all_auto_columns))"
   ]
  },
  {
   "cell_type": "markdown",
   "metadata": {
    "papermill": {
     "duration": 0.021174,
     "end_time": "2020-09-28T16:48:34.960523",
     "exception": false,
     "start_time": "2020-09-28T16:48:34.939349",
     "status": "completed"
    },
    "tags": []
   },
   "source": [
    "### 2.1. Datetime columns"
   ]
  },
  {
   "cell_type": "code",
   "execution_count": 4,
   "metadata": {
    "execution": {
     "iopub.execute_input": "2020-09-28T16:48:35.028673Z",
     "iopub.status.busy": "2020-09-28T16:48:35.023411Z",
     "iopub.status.idle": "2020-09-28T16:48:35.041034Z",
     "shell.execute_reply": "2020-09-28T16:48:35.040308Z"
    },
    "papermill": {
     "duration": 0.058936,
     "end_time": "2020-09-28T16:48:35.041164",
     "exception": false,
     "start_time": "2020-09-28T16:48:34.982228",
     "status": "completed"
    },
    "tags": []
   },
   "outputs": [],
   "source": [
    "date_cols = [\"Field_{}\".format(i) for i in [5, 6, 7, 8, 9, 11, 15, 25, 32, 33, 35, 40]]\n",
    "datetime_cols = [\"Field_{}\".format(i) for i in [1, 2, 43, 44]]\n",
    "correct_dt_cols = ['Field_34', 'ngaySinh']\n",
    "cat_cols = date_cols + datetime_cols + correct_dt_cols\n",
    "\n",
    "# Normalize Field_34, ngaySinh\n",
    "def ngaysinh_34_normalize(s):\n",
    "    if s != s: return np.nan\n",
    "    try: s = int(s)\n",
    "    except ValueError: s = s.split(\" \")[0]\n",
    "    return datetime.strptime(str(s)[:6], \"%Y%m\")\n",
    "\n",
    "# Normalize datetime data\n",
    "def datetime_normalize(s):\n",
    "    if s != s: return np.nan\n",
    "    s = s.split(\".\")[0]\n",
    "    if s[-1] == \"Z\": s = s[:-1]\n",
    "    return datetime.strptime(s, \"%Y-%m-%dT%H:%M:%S\")\n",
    "\n",
    "# Normalize date data\n",
    "def date_normalize(s):\n",
    "    if s != s: return np.nan\n",
    "    try: t = datetime.strptime(s, \"%m/%d/%Y\")\n",
    "    except: t = datetime.strptime(s, \"%Y-%m-%d\")\n",
    "    return t\n",
    "\n",
    "def process_datetime_cols(df):\n",
    "    df[datetime_cols] = df[datetime_cols].applymap(datetime_normalize)  \n",
    "    df[date_cols] = df[date_cols].applymap(date_normalize)\n",
    "    df[correct_dt_cols] = df[correct_dt_cols].applymap(ngaysinh_34_normalize)\n",
    "\n",
    "    # Some delta columns\n",
    "    for i, j in zip('43 1 2'.split(), '1 2 44'.split()): df[f'DT_{j}_{i}'] = (df[f'Field_{j}'] - df[f'Field_{i}']).dt.seconds\n",
    "    for i, j in zip('5 6 7 33 8 11 9 15 25 6 7 8 9 15 25 2'.split(), '6 34 33 40 11 35 15 25 32 7 8 9 15 25 32 8'.split()): \n",
    "        df[f'DT_{j}_{i}'] = (df[f'Field_{j}'] - df[f'Field_{i}']).dt.days\n",
    "    \n",
    "    # Age, month\n",
    "    df['age'] = 2020 - pd.DatetimeIndex(df['ngaySinh']).year\n",
    "    df['birth_month'] = pd.DatetimeIndex(df['ngaySinh']).month\n",
    "    \n",
    "    # Days from current time & isWeekday\n",
    "    for col in cat_cols:\n",
    "        name = col.split('_')[-1]\n",
    "        df[f'is_WD_{name}'] = df[col].dt.dayofweek.isin(range(5))\n",
    "        df[f'days_from_now_{name}'] = (datetime.now() - pd.DatetimeIndex(df[col])).days\n",
    "        df[col] = df[col].dt.strftime('%m-%Y')\n",
    "    \n",
    "    # Delta for x_startDate and x_endDate\n",
    "    for cat in ['F', 'E', 'C', 'G', 'A']:\n",
    "        df[f'{cat}_startDate'] = pd.to_datetime(df[f\"{cat}_startDate\"], infer_datetime_format=True)\n",
    "        df[f'{cat}_endDate'] = pd.to_datetime(df[f\"{cat}_endDate\"], infer_datetime_format=True)\n",
    "        \n",
    "        df[f'{cat}_start_end'] = (df[f'{cat}_endDate'] - df[f'{cat}_startDate']).dt.days\n",
    "        \n",
    "    \n",
    "    temp_date = [f'{i}_startDate' for i in 'ACEFG'] + [f'{i}_endDate' for i in 'ACEFG']\n",
    "    \n",
    "    for col in temp_date:\n",
    "        df[col] = df[col].dt.strftime('%m-%Y')\n",
    "        \n",
    "    for col in cat_cols + temp_date:\n",
    "        df[col] = df[col].astype(\"category\")\n",
    "        \n",
    "    return df"
   ]
  },
  {
   "cell_type": "markdown",
   "metadata": {
    "papermill": {
     "duration": 0.021544,
     "end_time": "2020-09-28T16:48:35.084744",
     "exception": false,
     "start_time": "2020-09-28T16:48:35.063200",
     "status": "completed"
    },
    "tags": []
   },
   "source": [
    "### 2.2. Categorical columns"
   ]
  },
  {
   "cell_type": "code",
   "execution_count": 5,
   "metadata": {
    "execution": {
     "iopub.execute_input": "2020-09-28T16:48:35.152303Z",
     "iopub.status.busy": "2020-09-28T16:48:35.139846Z",
     "iopub.status.idle": "2020-09-28T16:48:35.156870Z",
     "shell.execute_reply": "2020-09-28T16:48:35.156183Z"
    },
    "papermill": {
     "duration": 0.049374,
     "end_time": "2020-09-28T16:48:35.157003",
     "exception": false,
     "start_time": "2020-09-28T16:48:35.107629",
     "status": "completed"
    },
    "tags": []
   },
   "outputs": [],
   "source": [
    "# Xử lý cột maCv\n",
    "\n",
    "def str_normalize(s):\n",
    "    s = str(s).strip().lower()\n",
    "    s = re.sub(' +', \" \", s)\n",
    "    return s\n",
    "\n",
    "\n",
    "def job_category(x):\n",
    "    if type(x) == str:\n",
    "        if \"công nhân\" in x or \"cnv\" in x or \"cn\" in x or \"may công nghiệp\" in x or \"lao động\" in x\\\n",
    "        or \"thợ\" in x or \"coõng nhaõn trửùc tieỏp maựy may coõng nghieọp\" in x or \"c.n\" in x or \"lđ\" in x:\n",
    "            return \"CN\"\n",
    "        elif \"giáo viên\" in x or \"gv\" in x or \"gíao viên\" in x:\n",
    "            return \"GV\"\n",
    "        elif \"nhân viên\" in x or \"kế toán\" in x or \"cán bộ\" in x or \"nv\" in x or \"cb\" in x or \"nhõn viờn\" in x:\n",
    "            return \"NV\"\n",
    "        elif \"tài xế\" in x or \"lái\" in x or \"tài xê\" in x:\n",
    "            return \"TX\"\n",
    "        elif \"quản lý\" in x or \"phó phòng\" in x or \"hiệu phó\" in x:\n",
    "            return \"QL\"\n",
    "        elif \"undefined\" in x:\n",
    "            return \"missing\"\n",
    "        elif \"giám đốc\" in x or \"hiệu trưởng\" in x:\n",
    "            return \"GĐ\"\n",
    "        elif \"phục vụ\" in x:\n",
    "            return \"PV\"\n",
    "        elif \"chuyên viên\" in x:\n",
    "            return  \"CV\"\n",
    "        elif \"bác sĩ\" in x or \"dược sĩ\" in x or \"y sĩ\" in x or \"y sỹ\" in x:\n",
    "            return \"BS\"\n",
    "        elif \"y tá\" in x:\n",
    "            return \"YT\"\n",
    "        elif \"hộ sinh\" in x:\n",
    "            return \"HS\"\n",
    "        elif \"chủ tịch\" in x:\n",
    "            return \"CT\"\n",
    "        elif \"bếp\" in x:\n",
    "            return \"ĐB\"\n",
    "        elif \"sư\" in x:\n",
    "            return \"KS\"\n",
    "        elif \"dưỡng\" in x:\n",
    "            return \"ĐD\"\n",
    "        elif \"kỹ thuật\" in x or \"kĩ thuật\" in x:\n",
    "            return \"KTV\"\n",
    "        elif \"diễn viên\" in x:\n",
    "            return \"DV\"\n",
    "#         else:\n",
    "#             return \"missing\"\n",
    "    else:\n",
    "        return x    \n",
    "    \n",
    "def process_maCv(df):\n",
    "    df[\"maCv\"] = df[\"maCv\"].apply(str_normalize).apply(job_category)\n",
    "    df[\"maCv\"] = df[\"maCv\"].astype(\"category\")\n",
    "    return df\n"
   ]
  },
  {
   "cell_type": "code",
   "execution_count": 6,
   "metadata": {
    "execution": {
     "iopub.execute_input": "2020-09-28T16:48:35.226425Z",
     "iopub.status.busy": "2020-09-28T16:48:35.225591Z",
     "iopub.status.idle": "2020-09-28T16:48:35.229745Z",
     "shell.execute_reply": "2020-09-28T16:48:35.228939Z"
    },
    "papermill": {
     "duration": 0.050805,
     "end_time": "2020-09-28T16:48:35.229904",
     "exception": false,
     "start_time": "2020-09-28T16:48:35.179099",
     "status": "completed"
    },
    "tags": []
   },
   "outputs": [],
   "source": [
    "unicode_cols = ['Field_18', 'Field_46', 'Field_48', 'Field_49', 'Field_56', 'Field_61', 'homeTownCity', \n",
    "                'homeTownName', 'currentLocationCity', 'currentLocationName', 'currentLocationState', 'homeTownState']\n",
    "object_cols = (unicode_cols + \n",
    "               [f'Field_{str(i)}' for i in '4 12 36 38 47 62 45 54 65 66 68'.split()] +\n",
    "               ['data.basic_info.locale', 'currentLocationCountry', 'homeTownCountry', 'brief'])\n",
    "\n",
    "def str_normalize(s):\n",
    "    s = str(s).strip().lower()\n",
    "    s = re.sub(' +', \" \", s)\n",
    "    return s\n",
    "\n",
    "def combine_gender(s):\n",
    "    x, y = s \n",
    "    if x != x and y != y: return \"nan\"\n",
    "    if x != x: return y.lower()\n",
    "    return x.lower()\n",
    "\n",
    "def process_categorical_cols(df):\n",
    "    df[unicode_cols] = df[unicode_cols].applymap(str_normalize).applymap(lambda x: unidecode(x) if x==x else x)\n",
    "    \n",
    "    # Normalize some columns\n",
    "    df[\"Field_38\"] = df[\"Field_38\"].map({0: 0.0, 1: 1.0, \"DN\": np.nan, \"TN\": np.nan, \"GD\": np.nan})\n",
    "    df[\"Field_62\"] = df[\"Field_62\"].map({\"I\": 1, \"II\": 2, \"III\": 3, \"IV\": 4, \"V\": 5, \"Ngoài quốc doanh Quận 7\": np.nan})\n",
    "    df[\"Field_47\"] = df[\"Field_47\"].map({\"Zezo\": 0, \"One\": 1, \"Two\": 2, \"Three\": 3, \"Four\": 4})\n",
    "    \n",
    "    # Make some new features\n",
    "    df['Field_45_Q'] = df['Field_45'].str[:-3].astype('category')\n",
    "    df['Field_45'] = df['Field_45'].str[2:].astype('category')\n",
    "\n",
    "    df['is_homeTown_current_state'] = df['homeTownState'] == df['currentLocationState']\n",
    "    df['F48_49'] = df['Field_48'] == df['Field_49']\n",
    "    \n",
    "    df[\"gender\"] = df[[\"gioiTinh\", \"info_social_sex\"]].apply(combine_gender, axis=1).astype(\"category\")\n",
    "    \n",
    "    df[[\"currentLocationLocationId\", \"homeTownLocationId\", \"currentLocationLatitude\", \"currentLocationLongitude\", \n",
    "        \"homeTownLatitude\", \"homeTownLongitude\"]].replace(0, np.nan, inplace=True) # value == 0: noisy\n",
    "\n",
    "    df[[\"currentLocationLocationId\", \"homeTownLocationId\"]] = (df[[\"currentLocationLocationId\", \"homeTownLocationId\"]]\n",
    "                                                             .applymap(str_normalize).astype(\"category\"))\n",
    "    df[object_cols] = df[object_cols].astype('category')\n",
    "    \n",
    "    return df"
   ]
  },
  {
   "cell_type": "markdown",
   "metadata": {
    "papermill": {
     "duration": 0.02264,
     "end_time": "2020-09-28T16:48:35.275727",
     "exception": false,
     "start_time": "2020-09-28T16:48:35.253087",
     "status": "completed"
    },
    "tags": []
   },
   "source": [
    "### 2.3. Others"
   ]
  },
  {
   "cell_type": "code",
   "execution_count": 7,
   "metadata": {
    "execution": {
     "iopub.execute_input": "2020-09-28T16:48:35.351097Z",
     "iopub.status.busy": "2020-09-28T16:48:35.346665Z",
     "iopub.status.idle": "2020-09-28T16:48:35.354412Z",
     "shell.execute_reply": "2020-09-28T16:48:35.355038Z"
    },
    "papermill": {
     "duration": 0.056164,
     "end_time": "2020-09-28T16:48:35.355210",
     "exception": false,
     "start_time": "2020-09-28T16:48:35.299046",
     "status": "completed"
    },
    "tags": []
   },
   "outputs": [],
   "source": [
    "# New feature from columns 63, 64\n",
    "def process_63_64(z):\n",
    "    x, y = z\n",
    "    if x != x and y != y:\n",
    "        return np.nan\n",
    "    if (x, y) in [(1.0, 2.0), (2.0, 3.0), (3.0, 4.0), (4.0, 8.0), (7.0, 5.0), (5.0, 6.0), (9.0, 43.0), (8.0, 9.0)]: return True\n",
    "    else: return False\n",
    "    \n",
    "def process_others(df):        \n",
    "    df[[\"Field_27\", \"Field_28\"]].replace(0.0, np.nan, inplace=True)\n",
    "    df['F18_isnumeric'] = df['Field_18'].str.isnumeric()\n",
    "    df['F18_isalpha'] = df['Field_18'].str.isalpha()\n",
    "    \n",
    "    # Round Field_71 và Field_72, Field_79, Field_80\n",
    "    df['Field_71'] = df.Field_71.round(2)\n",
    "    df['Field_72'] = df.Field_72.round(2)\n",
    "    df['Field_79'] = df.Field_79.round(2)\n",
    "    df['Field_80'] = df.Field_80.round(2)\n",
    "    \n",
    "    # Delta from some pairs of columns\n",
    "    for i, j in [(20, 27), (28, 27), (39, 41), (41, 42), (50, 51), (51, 53)]:\n",
    "        df[f'F{str(i)}_{str(j)}_delta'] = df[f'Field_{str(j)}'] - df[f'Field_{str(i)}']\n",
    "    df['F_59_60'] = df['Field_59'] - df['Field_60'] - 2\n",
    "    df['F_63_64'] = df[['Field_63', 'Field_64']].apply(process_63_64, axis=1).astype('category')\n",
    "    \n",
    "    # Mean, std from partnerX columns\n",
    "    for i in '1 2 3 4 5'.split():\n",
    "        col = [c for c in df.columns if f'partner{i}' in c]\n",
    "        df[f'partner{i}_mean'] = df[col].mean(axis=1)\n",
    "        df[f'partner{i}_std'] = df[col].std(axis=1)\n",
    "\n",
    "    # Reference columns\n",
    "    columns = set(df.columns).difference(ignore_columns)\n",
    "    df['cnt_NaN'] = df[columns].isna().sum(axis=1)\n",
    "    df['cnt_True'] = df[columns].applymap(lambda x: isinstance(x, bool) and x).sum(axis=1)\n",
    "    df['cnt_False'] = df[columns].applymap(lambda x: isinstance(x, bool) and not x).sum(axis=1)\n",
    "\n",
    "    # Combinations of auto columns\n",
    "    lst_combination = (list(combinations(auto_columns_2, 2)) + list(combinations(auto_columns_3, 2)) + list(combinations(auto_columns_4, 2)))\n",
    "    for l, r in lst_combination:\n",
    "        for func in 'add subtract divide multiply'.split():\n",
    "            df[f'auto_{func}_{l}_{r}'] = getattr(np, func)(df[l], df[r])\n",
    "            \n",
    "    return df"
   ]
  },
  {
   "cell_type": "code",
   "execution_count": 16,
   "metadata": {
    "papermill": {
     "duration": 0.038596,
     "end_time": "2020-09-28T16:48:35.417642",
     "exception": false,
     "start_time": "2020-09-28T16:48:35.379046",
     "status": "completed"
    },
    "tags": []
   },
   "outputs": [],
   "source": [
    "# Xử lý Field_55\n",
    "# tạo thêm 2 cột mới bằng các tách các giá trị trong Field_55 làm 2\n",
    "def process_55(df):\n",
    "    df_len = len(df)\n",
    "    arr1 = df.Field_55.values\n",
    "    a1 = []\n",
    "    a2 = []\n",
    "    for i in range(df_len):\n",
    "        if type(arr1[i]) == str:\n",
    "            a1.append(arr1[i][0])\n",
    "            a2.append(arr1[i][1])\n",
    "        else:\n",
    "            a2.append(np.nan)\n",
    "            a1.append(np.nan)\n",
    "    df['Field_55_a'] = a1\n",
    "    df['Field_55_b'] = a2\n",
    "\n",
    "    # Ép kiểu dữ liệu về dạng category\n",
    "    df['Field_55_a'] = df['Field_55_a'].astype('category')\n",
    "    df['Field_55_b'] = df['Field_55_b'].astype('category')\n",
    "\n",
    "    df.drop('Field_55', axis=1, inplace=True)\n",
    "    return df"
   ]
  },
  {
   "cell_type": "markdown",
   "metadata": {
    "papermill": {
     "duration": 0.022774,
     "end_time": "2020-09-28T16:48:35.464203",
     "exception": false,
     "start_time": "2020-09-28T16:48:35.441429",
     "status": "completed"
    },
    "tags": []
   },
   "source": [
    "### 2.4. Combine all parts"
   ]
  },
  {
   "cell_type": "code",
   "execution_count": 9,
   "metadata": {
    "execution": {
     "iopub.execute_input": "2020-09-28T16:48:35.524407Z",
     "iopub.status.busy": "2020-09-28T16:48:35.520910Z",
     "iopub.status.idle": "2020-09-28T16:50:02.345325Z",
     "shell.execute_reply": "2020-09-28T16:50:02.343981Z"
    },
    "papermill": {
     "duration": 86.858107,
     "end_time": "2020-09-28T16:50:02.345552",
     "exception": false,
     "start_time": "2020-09-28T16:48:35.487445",
     "status": "completed"
    },
    "tags": []
   },
   "outputs": [],
   "source": [
    "def transform(df):\n",
    "    df = process_datetime_cols(df)\n",
    "    df = process_categorical_cols(df)\n",
    "    df = process_others(df)\n",
    "    df = process_maCv(df)\n",
    "    df = process_55(df)\n",
    "    return df.drop(ignore_columns, axis=1)\n",
    "\n",
    "train = transform(train)\n",
    "test = transform(test)"
   ]
  },
  {
   "cell_type": "code",
   "execution_count": 10,
   "metadata": {
    "execution": {
     "iopub.execute_input": "2020-09-28T16:50:02.420104Z",
     "iopub.status.busy": "2020-09-28T16:50:02.417964Z",
     "iopub.status.idle": "2020-09-28T16:50:02.439935Z",
     "shell.execute_reply": "2020-09-28T16:50:02.439013Z"
    },
    "papermill": {
     "duration": 0.061706,
     "end_time": "2020-09-28T16:50:02.440126",
     "exception": false,
     "start_time": "2020-09-28T16:50:02.378420",
     "status": "completed"
    },
    "tags": []
   },
   "outputs": [],
   "source": [
    "train['province'] = province.province[:53030]\n",
    "test['province'] = province.province[53030:]\n",
    "\n",
    "train['province'] = train['province'].astype('category')\n",
    "test['province'] = test['province'].astype('category')"
   ]
  },
  {
   "cell_type": "markdown",
   "metadata": {
    "papermill": {
     "duration": 0.02292,
     "end_time": "2020-09-28T16:50:02.487371",
     "exception": false,
     "start_time": "2020-09-28T16:50:02.464451",
     "status": "completed"
    },
    "tags": []
   },
   "source": [
    "### 2.5. Try Count Encoding"
   ]
  },
  {
   "cell_type": "code",
   "execution_count": 11,
   "metadata": {
    "execution": {
     "iopub.execute_input": "2020-09-28T16:50:02.570552Z",
     "iopub.status.busy": "2020-09-28T16:50:02.560293Z",
     "iopub.status.idle": "2020-09-28T16:50:06.670356Z",
     "shell.execute_reply": "2020-09-28T16:50:06.669747Z"
    },
    "papermill": {
     "duration": 4.156991,
     "end_time": "2020-09-28T16:50:06.670511",
     "exception": false,
     "start_time": "2020-09-28T16:50:02.513520",
     "status": "completed"
    },
    "tags": []
   },
   "outputs": [],
   "source": [
    "# Support catboost modelling\n",
    "cat_features = [c for c in train.columns if (train[c].dtype not in [np.float64, np.int64])]\n",
    "train[cat_features] = train[cat_features].astype(str)\n",
    "test[cat_features] = test[cat_features].astype(str)"
   ]
  },
  {
   "cell_type": "code",
   "execution_count": 12,
   "metadata": {
    "execution": {
     "iopub.execute_input": "2020-09-28T16:50:06.728506Z",
     "iopub.status.busy": "2020-09-28T16:50:06.727727Z",
     "iopub.status.idle": "2020-09-28T16:50:21.144667Z",
     "shell.execute_reply": "2020-09-28T16:50:21.143889Z"
    },
    "papermill": {
     "duration": 14.450975,
     "end_time": "2020-09-28T16:50:21.144803",
     "exception": false,
     "start_time": "2020-09-28T16:50:06.693828",
     "status": "completed"
    },
    "tags": []
   },
   "outputs": [
    {
     "name": "stdout",
     "output_type": "stream",
     "text": [
      "2210\n"
     ]
    }
   ],
   "source": [
    "# Create the encoder\n",
    "t = pd.concat([train, test]).reset_index(drop=True)\n",
    "count_enc = ce.CountEncoder().fit_transform(t[cat_features])\n",
    "tt = t.join(count_enc.add_suffix(\"_count\"))\n",
    "\n",
    "f2_train = tt.loc[tt.index < train.shape[0]]\n",
    "f2_test = tt.loc[tt.index >= train.shape[0]]\n",
    "\n",
    "columns = sorted(set(f2_train.columns).intersection(f2_test.columns))\n",
    "print(len(columns))"
   ]
  },
  {
   "cell_type": "markdown",
   "metadata": {
    "papermill": {
     "duration": 0.023645,
     "end_time": "2020-09-28T16:50:21.192823",
     "exception": false,
     "start_time": "2020-09-28T16:50:21.169178",
     "status": "completed"
    },
    "tags": []
   },
   "source": [
    "# 3. Modelling"
   ]
  },
  {
   "cell_type": "markdown",
   "metadata": {
    "papermill": {
     "duration": 0.023403,
     "end_time": "2020-09-28T16:50:21.240302",
     "exception": false,
     "start_time": "2020-09-28T16:50:21.216899",
     "status": "completed"
    },
    "tags": []
   },
   "source": [
    "### 3.1. Model"
   ]
  },
  {
   "cell_type": "code",
   "execution_count": 13,
   "metadata": {
    "execution": {
     "iopub.execute_input": "2020-09-28T16:50:21.314561Z",
     "iopub.status.busy": "2020-09-28T16:50:21.311037Z",
     "iopub.status.idle": "2020-09-28T17:43:46.024197Z",
     "shell.execute_reply": "2020-09-28T17:43:46.023248Z"
    },
    "papermill": {
     "duration": 3204.758472,
     "end_time": "2020-09-28T17:43:46.024365",
     "exception": false,
     "start_time": "2020-09-28T16:50:21.265893",
     "status": "completed"
    },
    "tags": []
   },
   "outputs": [
    {
     "name": "stdout",
     "output_type": "stream",
     "text": [
      "0:\ttest: 0.6816828\tbest: 0.6816828 (0)\ttotal: 1.02s\tremaining: 17m\n",
      "500:\ttest: 0.7500669\tbest: 0.7506290 (398)\ttotal: 5m 22s\tremaining: 5m 21s\n",
      "999:\ttest: 0.7504472\tbest: 0.7518286 (625)\ttotal: 10m 35s\tremaining: 0us\n",
      "\n",
      "bestTest = 0.751828554\n",
      "bestIteration = 625\n",
      "\n",
      "Shrink model to first 626 iterations.\n",
      "Fold  1 GINI : 0.50366\n",
      "0:\ttest: 0.6795202\tbest: 0.6795202 (0)\ttotal: 774ms\tremaining: 12m 52s\n",
      "500:\ttest: 0.7540294\tbest: 0.7551069 (396)\ttotal: 5m 23s\tremaining: 5m 22s\n",
      "999:\ttest: 0.7535870\tbest: 0.7551069 (396)\ttotal: 10m 37s\tremaining: 0us\n",
      "\n",
      "bestTest = 0.7551069063\n",
      "bestIteration = 396\n",
      "\n",
      "Shrink model to first 397 iterations.\n",
      "Fold  2 GINI : 0.51021\n",
      "0:\ttest: 0.6954428\tbest: 0.6954428 (0)\ttotal: 743ms\tremaining: 12m 22s\n",
      "500:\ttest: 0.7483989\tbest: 0.7487193 (474)\ttotal: 5m 18s\tremaining: 5m 17s\n",
      "999:\ttest: 0.7493355\tbest: 0.7495778 (886)\ttotal: 10m 28s\tremaining: 0us\n",
      "\n",
      "bestTest = 0.7495777888\n",
      "bestIteration = 886\n",
      "\n",
      "Shrink model to first 887 iterations.\n",
      "Fold  3 GINI : 0.49916\n",
      "0:\ttest: 0.6861750\tbest: 0.6861750 (0)\ttotal: 728ms\tremaining: 12m 7s\n",
      "500:\ttest: 0.7561805\tbest: 0.7562755 (319)\ttotal: 5m 19s\tremaining: 5m 18s\n",
      "999:\ttest: 0.7563166\tbest: 0.7566112 (626)\ttotal: 10m 30s\tremaining: 0us\n",
      "\n",
      "bestTest = 0.7566112399\n",
      "bestIteration = 626\n",
      "\n",
      "Shrink model to first 627 iterations.\n",
      "Fold  4 GINI : 0.51322\n",
      "0:\ttest: 0.6766347\tbest: 0.6766347 (0)\ttotal: 720ms\tremaining: 11m 59s\n",
      "500:\ttest: 0.7445216\tbest: 0.7445324 (499)\ttotal: 5m 19s\tremaining: 5m 18s\n",
      "999:\ttest: 0.7436299\tbest: 0.7446044 (515)\ttotal: 10m 30s\tremaining: 0us\n",
      "\n",
      "bestTest = 0.7446043826\n",
      "bestIteration = 515\n",
      "\n",
      "Shrink model to first 516 iterations.\n",
      "Fold  5 GINI : 0.48921\n",
      "Avg GINI score: 0.5028458594983998\n",
      "GINI: 0.50309 +- 0.00851\n"
     ]
    }
   ],
   "source": [
    "gini, feature_importance_df = {}, pd.DataFrame()\n",
    "\n",
    "TRAIN, TEST = f2_train[columns].drop(['id', 'label'], axis=1), f2_test[columns].drop(['id', 'label'], axis=1)\n",
    "LABEL = f2_train['label']\n",
    "preds, oof_preds = np.zeros(TRAIN.shape[0]), {}\n",
    "\n",
    "cv = StratifiedKFold(n_splits=5, shuffle=True)\n",
    "for i, (train_idx, val_idx) in enumerate(cv.split(TRAIN, LABEL)):\n",
    "    X_train, y_train = TRAIN.iloc[train_idx], LABEL.iloc[train_idx]\n",
    "    X_val, y_val = TRAIN.iloc[val_idx], LABEL.iloc[val_idx]\n",
    "\n",
    "    gbm = CatBoostClassifier(eval_metric='AUC', \n",
    "                             use_best_model=True,\n",
    "                             iterations=1000, \n",
    "                             learning_rate=0.1, \n",
    "                             random_seed=42).fit(X_train, y_train, \n",
    "                                                 cat_features=set(cat_features),\n",
    "                                                 eval_set=(X_val, y_val), verbose=500)\n",
    "\n",
    "    y_pred = gbm.predict(X_val)\n",
    "    y_pred_proba = gbm.predict_proba(X_val)[:, 1]\n",
    "        \n",
    "    preds[val_idx] = y_pred_proba\n",
    "    oof_preds[f'F{i+1}'] = gbm.predict_proba(TEST)[:, 1]\n",
    "    \n",
    "    gini[f'F{i+1}'] = 2 * roc_auc_score(y_val, y_pred_proba) - 1\n",
    "    \n",
    "    # For create feature importances\n",
    "    fold_importance_df = pd.DataFrame()\n",
    "    fold_importance_df[\"feature\"] = TRAIN.columns\n",
    "    fold_importance_df[\"importance\"] = gbm.feature_importances_\n",
    "    fold_importance_df[\"fold\"] = i + 1\n",
    "    feature_importance_df = pd.concat([feature_importance_df, fold_importance_df], axis=0)\n",
    "    print('Fold %2d GINI : %.5f' % (i + 1, 2*roc_auc_score(y_val, y_pred_proba) - 1))\n",
    "    \n",
    "# Resulting\n",
    "roc_auc = roc_auc_score(LABEL, preds)\n",
    "print('Avg GINI score:', 2*roc_auc - 1)\n",
    "\n",
    "result = np.array(list(gini.values()))\n",
    "print('GINI: {:.5f} +- {:.5f}'.format(result.mean(), result.std()))"
   ]
  },
  {
   "cell_type": "markdown",
   "metadata": {
    "papermill": {
     "duration": 0.030922,
     "end_time": "2020-09-28T17:43:46.087821",
     "exception": false,
     "start_time": "2020-09-28T17:43:46.056899",
     "status": "completed"
    },
    "tags": []
   },
   "source": [
    "### 3.2. Feature importances"
   ]
  },
  {
   "cell_type": "code",
   "execution_count": 14,
   "metadata": {
    "execution": {
     "iopub.execute_input": "2020-09-28T17:43:46.164569Z",
     "iopub.status.busy": "2020-09-28T17:43:46.163551Z",
     "iopub.status.idle": "2020-09-28T17:43:47.280314Z",
     "shell.execute_reply": "2020-09-28T17:43:47.280926Z"
    },
    "papermill": {
     "duration": 1.161858,
     "end_time": "2020-09-28T17:43:47.281083",
     "exception": false,
     "start_time": "2020-09-28T17:43:46.119225",
     "status": "completed"
    },
    "tags": []
   },
   "outputs": [
    {
     "data": {
      "image/png": "[encoded data removed]",
      "text/plain": [
       "<Figure size 864x576 with 1 Axes>"
      ]
     },
     "metadata": {},
     "output_type": "display_data"
    }
   ],
   "source": [
    "def display_importances(feature_importance_df_):\n",
    "\n",
    "    cols = feature_importance_df_[[\"feature\", \"importance\"]].groupby(\"feature\").mean().sort_values(\n",
    "        by=\"importance\", ascending=False)[:20].index\n",
    "    \n",
    "    best_features = feature_importance_df_.loc[feature_importance_df_.feature.isin(cols)]\n",
    "    \n",
    "    plt.figure(figsize=(12, 8))\n",
    "    sns.barplot(x=\"importance\", y=\"feature\", \n",
    "                data=best_features.sort_values(by=\"importance\", ascending=False))\n",
    "    plt.title('LightGBM Features (avg over folds)')\n",
    "    plt.tight_layout()\n",
    "\n",
    "display_importances(feature_importance_df_=feature_importance_df)"
   ]
  },
  {
   "cell_type": "code",
   "execution_count": 15,
   "metadata": {
    "execution": {
     "iopub.execute_input": "2020-09-28T17:43:47.360290Z",
     "iopub.status.busy": "2020-09-28T17:43:47.359560Z",
     "iopub.status.idle": "2020-09-28T17:43:47.370746Z",
     "shell.execute_reply": "2020-09-28T17:43:47.370110Z"
    },
    "papermill": {
     "duration": 0.055888,
     "end_time": "2020-09-28T17:43:47.370878",
     "exception": false,
     "start_time": "2020-09-28T17:43:47.314990",
     "status": "completed"
    },
    "tags": []
   },
   "outputs": [
    {
     "data": {
      "text/html": [
       "<div>\n",
       "<style scoped>\n",
       "    .dataframe tbody tr th:only-of-type {\n",
       "        vertical-align: middle;\n",
       "    }\n",
       "\n",
       "    .dataframe tbody tr th {\n",
       "        vertical-align: top;\n",
       "    }\n",
       "\n",
       "    .dataframe thead th {\n",
       "        text-align: right;\n",
       "    }\n",
       "</style>\n",
       "<table border=\"1\" class=\"dataframe\">\n",
       "  <thead>\n",
       "    <tr style=\"text-align: right;\">\n",
       "      <th></th>\n",
       "      <th>feature</th>\n",
       "      <th>importance</th>\n",
       "      <th>fold</th>\n",
       "    </tr>\n",
       "  </thead>\n",
       "  <tbody>\n",
       "    <tr>\n",
       "      <th>2200</th>\n",
       "      <td>province</td>\n",
       "      <td>0.154790</td>\n",
       "      <td>1</td>\n",
       "    </tr>\n",
       "    <tr>\n",
       "      <th>2200</th>\n",
       "      <td>province</td>\n",
       "      <td>0.411531</td>\n",
       "      <td>2</td>\n",
       "    </tr>\n",
       "    <tr>\n",
       "      <th>2200</th>\n",
       "      <td>province</td>\n",
       "      <td>0.380487</td>\n",
       "      <td>3</td>\n",
       "    </tr>\n",
       "    <tr>\n",
       "      <th>2200</th>\n",
       "      <td>province</td>\n",
       "      <td>0.468140</td>\n",
       "      <td>4</td>\n",
       "    </tr>\n",
       "    <tr>\n",
       "      <th>2200</th>\n",
       "      <td>province</td>\n",
       "      <td>0.320840</td>\n",
       "      <td>5</td>\n",
       "    </tr>\n",
       "  </tbody>\n",
       "</table>\n",
       "</div>"
      ],
      "text/plain": [
       "       feature  importance  fold\n",
       "2200  province    0.154790     1\n",
       "2200  province    0.411531     2\n",
       "2200  province    0.380487     3\n",
       "2200  province    0.468140     4\n",
       "2200  province    0.320840     5"
      ]
     },
     "execution_count": 15,
     "metadata": {},
     "output_type": "execute_result"
    }
   ],
   "source": [
    "feature_importance_df[feature_importance_df.feature == 'province']"
   ]
  },
  {
   "cell_type": "code",
   "execution_count": 16,
   "metadata": {
    "execution": {
     "iopub.execute_input": "2020-09-28T17:43:47.447237Z",
     "iopub.status.busy": "2020-09-28T17:43:47.446462Z",
     "iopub.status.idle": "2020-09-28T17:43:47.454188Z",
     "shell.execute_reply": "2020-09-28T17:43:47.453613Z"
    },
    "papermill": {
     "duration": 0.048891,
     "end_time": "2020-09-28T17:43:47.454317",
     "exception": false,
     "start_time": "2020-09-28T17:43:47.405426",
     "status": "completed"
    },
    "tags": []
   },
   "outputs": [
    {
     "data": {
      "text/plain": [
       "(1852,)"
      ]
     },
     "execution_count": 16,
     "metadata": {},
     "output_type": "execute_result"
    }
   ],
   "source": [
    "# One tips to better performance is re-training the model with dropped low important columns\n",
    "to_drop = feature_importance_df[feature_importance_df.importance == 0]['feature'].unique()\n",
    "to_drop.shape"
   ]
  },
  {
   "cell_type": "markdown",
   "metadata": {
    "papermill": {
     "duration": 0.034708,
     "end_time": "2020-09-28T17:43:47.524231",
     "exception": false,
     "start_time": "2020-09-28T17:43:47.489523",
     "status": "completed"
    },
    "tags": []
   },
   "source": [
    "# 4. Submisison"
   ]
  },
  {
   "cell_type": "code",
   "execution_count": 17,
   "metadata": {
    "execution": {
     "iopub.execute_input": "2020-09-28T17:43:47.602362Z",
     "iopub.status.busy": "2020-09-28T17:43:47.601290Z",
     "iopub.status.idle": "2020-09-28T17:43:48.022459Z",
     "shell.execute_reply": "2020-09-28T17:43:48.021823Z"
    },
    "papermill": {
     "duration": 0.463356,
     "end_time": "2020-09-28T17:43:48.022612",
     "exception": false,
     "start_time": "2020-09-28T17:43:47.559256",
     "status": "completed"
    },
    "tags": []
   },
   "outputs": [],
   "source": [
    "test['label'] = pd.DataFrame(oof_preds).mean(axis=1).values\n",
    "name = pd.Timestamp.now().strftime('%Y%m%d_%H_%M')\n",
    "test[['id', 'label']].to_csv(f'{name}.csv', index=False)"
   ]
  }
 ],
 "metadata": {
  "kernelspec": {
   "display_name": "Python 3",
   "language": "python",
   "name": "python3"
  },
  "language_info": {
   "codemirror_mode": {
    "name": "ipython",
    "version": 3
   },
   "file_extension": ".py",
   "mimetype": "text/x-python",
   "name": "python",
   "nbconvert_exporter": "python",
   "pygments_lexer": "ipython3",
   "version": "3.8.3"
  },
  "papermill": {
   "duration": 3322.800213,
   "end_time": "2020-09-28T17:43:48.266746",
   "environment_variables": {},
   "exception": null,
   "input_path": "__notebook__.ipynb",
   "output_path": "__notebook__.ipynb",
   "parameters": {},
   "start_time": "2020-09-28T16:48:25.466533",
   "version": "2.1.0"
  }
 },
 "nbformat": 4,
 "nbformat_minor": 4
}
